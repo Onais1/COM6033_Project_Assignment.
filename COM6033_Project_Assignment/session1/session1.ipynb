{
 "cells": [
  {
   "cell_type": "code",
   "execution_count": 15,
   "id": "c8a7432b-68ce-4a6c-89b0-76137e3e9e56",
   "metadata": {},
   "outputs": [],
   "source": [
    "import pandas as pd\n",
    "import numpy as np\n",
    "from scipy import stats"
   ]
  },
  {
   "cell_type": "code",
   "execution_count": 17,
   "id": "fa8763dc-800a-4671-88bb-a49ed5aeeb21",
   "metadata": {},
   "outputs": [],
   "source": [
    "# Exercise 1: We have registered the speed of 13 cars:\n",
    "# Write a Python program to calculate the average, the middle, or the most common speed value?\n",
    "\n",
    "speed = [99,86,87,88,111,86,103,87,94,78,77,85,86]"
   ]
  },
  {
   "cell_type": "code",
   "execution_count": 19,
   "id": "d18d6ef0-3503-464c-a136-e89e7034b95d",
   "metadata": {},
   "outputs": [
    {
     "name": "stdout",
     "output_type": "stream",
     "text": [
      "Mean : 89.77\n"
     ]
    }
   ],
   "source": [
    "# Calculate Mean\n",
    "dt_mean = np.mean(speed) ; print (\"Mean :\",round(dt_mean,2))"
   ]
  },
  {
   "cell_type": "code",
   "execution_count": 21,
   "id": "77b184f5-bb19-4ccb-b7f5-9d40e3c93d35",
   "metadata": {},
   "outputs": [
    {
     "name": "stdout",
     "output_type": "stream",
     "text": [
      "Median : 87.0\n"
     ]
    }
   ],
   "source": [
    "# Calculate Median\n",
    "dt_median = np.median(speed) ; print (\"Median :\",dt_median)"
   ]
  },
  {
   "cell_type": "code",
   "execution_count": 25,
   "id": "a390b276-ee07-4c79-97ae-33106813d8da",
   "metadata": {},
   "outputs": [
    {
     "name": "stdout",
     "output_type": "stream",
     "text": [
      "Mode : 86\n"
     ]
    }
   ],
   "source": [
    "# Calculate Mode\n",
    "dt_mode =  stats.mode(speed); print (\"Mode :\",dt_mode[0])"
   ]
  },
  {
   "cell_type": "code",
   "execution_count": 29,
   "id": "59380bc4-bf47-4c62-8707-757b81c03aef",
   "metadata": {},
   "outputs": [],
   "source": [
    "# Exercise 2: Let's say we have an array of the ages of all the people that lives in a street.\n",
    "# What is the 75. percentile? What does it mean?\n",
    "# Write a Python code that calculate what is the age that 90% of the people are younger than?\n",
    "from statistics import variance, stdev\n",
    "ages = [5,31,43,48,50,41,7,11,15,39,80,82,32,2,8,6,25,36,27,61,31]"
   ]
  },
  {
   "cell_type": "code",
   "execution_count": 31,
   "id": "79625979-55bf-4061-a2c8-c20f43b37a12",
   "metadata": {},
   "outputs": [
    {
     "name": "stdout",
     "output_type": "stream",
     "text": [
      "Sample variance: 540.05\n"
     ]
    }
   ],
   "source": [
    "# Calculate Variance\n",
    "dt_var = variance(ages) ; print (\"Sample variance:\", round(dt_var,2))"
   ]
  },
  {
   "cell_type": "code",
   "execution_count": 33,
   "id": "b88b9341-d227-425b-86d5-3393efcb11cf",
   "metadata": {},
   "outputs": [
    {
     "name": "stdout",
     "output_type": "stream",
     "text": [
      "Sample std.dev: 23.24\n"
     ]
    }
   ],
   "source": [
    "# Calculate Standard Deviation\n",
    "dt_std = stdev(ages) ; print (\"Sample std.dev:\", round(dt_std,2))"
   ]
  },
  {
   "cell_type": "code",
   "execution_count": 35,
   "id": "d355a984-2b08-464b-a425-51fdc2870ec9",
   "metadata": {},
   "outputs": [
    {
     "name": "stdout",
     "output_type": "stream",
     "text": [
      "Range: 80\n"
     ]
    }
   ],
   "source": [
    "# Calculate Range\n",
    "\n",
    "dt_rng = np.max(ages,axis=0) - np.min(ages,axis=0) ; print (\"Range:\",dt_rng)"
   ]
  },
  {
   "cell_type": "code",
   "execution_count": 37,
   "id": "d33c60ca-5225-4e02-9590-6f6c5649eb1e",
   "metadata": {},
   "outputs": [
    {
     "name": "stdout",
     "output_type": "stream",
     "text": [
      "Quantiles:\n",
      "20% 8.0\n",
      "80% 48.0\n",
      "100% 82.0\n"
     ]
    }
   ],
   "source": [
    "print (\"Quantiles:\")\n",
    "for val in [20,80,100]:\n",
    "    dt_qntls = np.percentile(ages,val)\n",
    "    print (str(val)+\"%\" ,dt_qntls)"
   ]
  },
  {
   "cell_type": "code",
   "execution_count": 39,
   "id": "7bbb5b4c-7693-4bb1-954c-e0ac2e87afdf",
   "metadata": {},
   "outputs": [
    {
     "name": "stdout",
     "output_type": "stream",
     "text": [
      "Inter quartile range: 32.0\n"
     ]
    }
   ],
   "source": [
    "# Calculate IQR\n",
    "q75, q25 = np.percentile(ages, [75 ,25]); print (\"Inter quartile range:\",q75-q25)"
   ]
  },
  {
   "cell_type": "code",
   "execution_count": 53,
   "id": "d8ecc0cc-1d50-4204-ab17-b79db1f3b537",
   "metadata": {},
   "outputs": [
    {
     "name": "stdout",
     "output_type": "stream",
     "text": [
      "[4.2168027  3.1721989  2.83554196 ... 4.05663071 3.14126262 3.36023432]\n"
     ]
    }
   ],
   "source": [
    "# Write a Python program to create an array with 100000 random numbers, and display them using a histogram with 100 bars.\n",
    "import matplotlib.pyplot as plt\n",
    "import numpy\n",
    "\n",
    "x = numpy.random.uniform(0.0, 5.0, 100000)\n",
    "\n",
    "print(x)"
   ]
  },
  {
   "cell_type": "code",
   "execution_count": 55,
   "id": "20cd326d-677d-4c66-878b-efcf8a9fc04c",
   "metadata": {},
   "outputs": [
    {
     "data": {
      "image/png": "[encoded data removed]",
      "text/plain": [
       "<Figure size 640x480 with 1 Axes>"
      ]
     },
     "metadata": {},
     "output_type": "display_data"
    }
   ],
   "source": [
    "plt.hist(x, 100)\n",
    "plt.show()"
   ]
  },
  {
   "cell_type": "code",
   "execution_count": 57,
   "id": "adf74cef-7e1e-4092-aab3-3aee91b94458",
   "metadata": {},
   "outputs": [
    {
     "data": {
      "image/png": "[encoded data removed]",
      "text/plain": [
       "<Figure size 640x480 with 1 Axes>"
      ]
     },
     "metadata": {},
     "output_type": "display_data"
    }
   ],
   "source": [
    "# Example\n",
    "# Use the scatter() method to draw a scatter plot diagram:\n",
    "import matplotlib.pyplot as plt\n",
    "\n",
    "x = [5,7,8,7,2,17,2,9,4,11,12,9,6]\n",
    "y = [99,86,87,88,111,86,103,87,94,78,77,85,86]\n",
    "\n",
    "plt.scatter(x, y)\n",
    "plt.show()"
   ]
  },
  {
   "cell_type": "code",
   "execution_count": null,
   "id": "d481cea5-0188-4c54-8f32-cc0ed64468e6",
   "metadata": {},
   "outputs": [],
   "source": [
    "#The x array represents the age of each car.\n",
    "\n",
    "#The y array represents the speed of each car."
   ]
  },
  {
   "cell_type": "code",
   "execution_count": null,
   "id": "9e758f51-1dc6-49c0-b663-915ad32d2b71",
   "metadata": {},
   "outputs": [],
   "source": []
  },
  {
   "cell_type": "code",
   "execution_count": null,
   "id": "df4ec83c-7110-4141-9b32-f55b5a1eb2cc",
   "metadata": {},
   "outputs": [],
   "source": []
  }
 ],
 "metadata": {
  "kernelspec": {
   "display_name": "Python 3 (ipykernel)",
   "language": "python",
   "name": "python3"
  },
  "language_info": {
   "codemirror_mode": {
    "name": "ipython",
    "version": 3
   },
   "file_extension": ".py",
   "mimetype": "text/x-python",
   "name": "python",
   "nbconvert_exporter": "python",
   "pygments_lexer": "ipython3",
   "version": "3.12.4"
  }
 },
 "nbformat": 4,
 "nbformat_minor": 5
}
