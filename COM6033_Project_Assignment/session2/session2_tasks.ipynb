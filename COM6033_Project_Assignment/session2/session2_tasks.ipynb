{
 "cells": [
  {
   "cell_type": "code",
   "execution_count": 112,
   "id": "a1a32db9-a8ed-49b4-b96c-553af6ce84e3",
   "metadata": {},
   "outputs": [
    {
     "name": "stdout",
     "output_type": "stream",
     "text": [
      "         Date  Revenue\n",
      "0  2023-01-01   1000.0\n",
      "1  2023-01-02   1200.0\n",
      "2  2023-01-03      NaN\n",
      "3  2023-01-04      NaN\n",
      "4  2023-01-03   1500.0\n"
     ]
    }
   ],
   "source": [
    "#Data representation basics 2.ipynb\n",
    "#Data Preparation Basics\n",
    "#Part 2 - Treating missing values\n",
    "\n",
    "import numpy as np\n",
    "import pandas as pd\n",
    "from pandas import Series, DataFrame\n",
    "\n",
    "#Tasks 1:\n",
    "#Create a pandas DataFrame named sales_data with the following data:\n",
    "missing = np.nan\n",
    "sales_data = {\n",
    "  \"Date\": [\"2023-01-01\", \"2023-01-02\", \"2023-01-03\",\"2023-01-04\",\"2023-01-03\"],\n",
    "  \"Revenue\": [1000, 1200, missing, missing,1500]\n",
    "}\n",
    "\n",
    "#load data into a DataFrame object:\n",
    "df = pd.DataFrame(sales_data)\n",
    "\n",
    "print(df) "
   ]
  },
  {
   "cell_type": "code",
   "execution_count": 114,
   "id": "cbc8871f-bc89-4cf2-aee3-dde7abcc069f",
   "metadata": {},
   "outputs": [
    {
     "name": "stdout",
     "output_type": "stream",
     "text": [
      "         Date  Revenue\n",
      "0  2023-01-01   1000.0\n",
      "1  2023-01-02   1200.0\n",
      "2  2023-01-03    800.0\n",
      "3  2023-01-04    800.0\n",
      "4  2023-01-03   1500.0\n"
     ]
    }
   ],
   "source": [
    "#Task 2: Fill in the missing values (NaN) in the 'Revenue' column with the value 800.\n",
    "df['Revenue'] = df['Revenue'].fillna(800)\n",
    "\n",
    "\n",
    "print(df)"
   ]
  },
  {
   "cell_type": "code",
   "execution_count": null,
   "id": "28cfc2af-785e-4d43-a456-62ed5a1fcf80",
   "metadata": {},
   "outputs": [],
   "source": [
    "#Data representation basics 3.ipynb\n"
   ]
  },
  {
   "cell_type": "code",
   "execution_count": null,
   "id": "ff67e243-fe83-4ba3-add0-c42b0d8d7c72",
   "metadata": {},
   "outputs": [],
   "source": [
    "#Task 1: Create a pandas DataFrame named orders_df with the following data:"
   ]
  },
  {
   "cell_type": "code",
   "execution_count": 116,
   "id": "32276a67-fd2f-4911-8949-e1ef74a63841",
   "metadata": {},
   "outputs": [
    {
     "name": "stdout",
     "output_type": "stream",
     "text": [
      "  Order_id Customer_id     Product\n",
      "0      101        A100      Laptop\n",
      "1      102        A101  Smartphone\n",
      "2      103        A100      Laptop\n",
      "3      104        A102      Tablet\n",
      "4      105        A103  Smartphone\n"
     ]
    }
   ],
   "source": [
    "orders_df = {\n",
    "    \"Order_id\": [\"101\", \"102\", \"103\",\"104\",\"105\"],\n",
    "    \"Customer_id\": [\"A100\", \"A101\", \"A100\", \"A102\",\"A103\"],\n",
    "    \"Product\": [\"Laptop\", \"Smartphone\", \"Laptop\", \"Tablet\", \"Smartphone\"]\n",
    "}\n",
    "\n",
    "#load data into a DataFrame object:\n",
    "df = pd.DataFrame(orders_df)\n",
    "\n",
    "print(df) "
   ]
  },
  {
   "cell_type": "code",
   "execution_count": null,
   "id": "b0d1faa6-51b8-4657-a047-cb4d9921740f",
   "metadata": {},
   "outputs": [],
   "source": [
    "#Part 3 - Removing duplicates\n",
    "#Task 2:\n",
    "#Check for duplicate orders based on the combination of 'OrderID' and 'CustomerID' columns and print the result.\n",
    "#Drop the duplicate orders."
   ]
  },
  {
   "cell_type": "code",
   "execution_count": 118,
   "id": "22e978a3-0d18-46a8-b049-fdc789b1f3be",
   "metadata": {},
   "outputs": [
    {
     "data": {
      "text/html": [
       "<div>\n",
       "<style scoped>\n",
       "    .dataframe tbody tr th:only-of-type {\n",
       "        vertical-align: middle;\n",
       "    }\n",
       "\n",
       "    .dataframe tbody tr th {\n",
       "        vertical-align: top;\n",
       "    }\n",
       "\n",
       "    .dataframe thead th {\n",
       "        text-align: right;\n",
       "    }\n",
       "</style>\n",
       "<table border=\"1\" class=\"dataframe\">\n",
       "  <thead>\n",
       "    <tr style=\"text-align: right;\">\n",
       "      <th></th>\n",
       "      <th>Order_id</th>\n",
       "      <th>Customer_id</th>\n",
       "      <th>Product</th>\n",
       "    </tr>\n",
       "  </thead>\n",
       "  <tbody>\n",
       "    <tr>\n",
       "      <th>0</th>\n",
       "      <td>101</td>\n",
       "      <td>A100</td>\n",
       "      <td>Laptop</td>\n",
       "    </tr>\n",
       "    <tr>\n",
       "      <th>1</th>\n",
       "      <td>102</td>\n",
       "      <td>A101</td>\n",
       "      <td>Smartphone</td>\n",
       "    </tr>\n",
       "    <tr>\n",
       "      <th>2</th>\n",
       "      <td>103</td>\n",
       "      <td>A100</td>\n",
       "      <td>Laptop</td>\n",
       "    </tr>\n",
       "    <tr>\n",
       "      <th>3</th>\n",
       "      <td>104</td>\n",
       "      <td>A102</td>\n",
       "      <td>Tablet</td>\n",
       "    </tr>\n",
       "    <tr>\n",
       "      <th>4</th>\n",
       "      <td>105</td>\n",
       "      <td>A103</td>\n",
       "      <td>Smartphone</td>\n",
       "    </tr>\n",
       "  </tbody>\n",
       "</table>\n",
       "</div>"
      ],
      "text/plain": [
       "  Order_id Customer_id     Product\n",
       "0      101        A100      Laptop\n",
       "1      102        A101  Smartphone\n",
       "2      103        A100      Laptop\n",
       "3      104        A102      Tablet\n",
       "4      105        A103  Smartphone"
      ]
     },
     "execution_count": 118,
     "metadata": {},
     "output_type": "execute_result"
    }
   ],
   "source": [
    "df.drop_duplicates()"
   ]
  },
  {
   "cell_type": "code",
   "execution_count": 120,
   "id": "51bb7727-12e5-41c1-b90c-c21d9e7659be",
   "metadata": {},
   "outputs": [
    {
     "data": {
      "text/html": [
       "<div>\n",
       "<style scoped>\n",
       "    .dataframe tbody tr th:only-of-type {\n",
       "        vertical-align: middle;\n",
       "    }\n",
       "\n",
       "    .dataframe tbody tr th {\n",
       "        vertical-align: top;\n",
       "    }\n",
       "\n",
       "    .dataframe thead th {\n",
       "        text-align: right;\n",
       "    }\n",
       "</style>\n",
       "<table border=\"1\" class=\"dataframe\">\n",
       "  <thead>\n",
       "    <tr style=\"text-align: right;\">\n",
       "      <th></th>\n",
       "      <th>Order_id</th>\n",
       "      <th>Customer_id</th>\n",
       "      <th>Product</th>\n",
       "    </tr>\n",
       "  </thead>\n",
       "  <tbody>\n",
       "    <tr>\n",
       "      <th>0</th>\n",
       "      <td>101</td>\n",
       "      <td>A100</td>\n",
       "      <td>Laptop</td>\n",
       "    </tr>\n",
       "    <tr>\n",
       "      <th>1</th>\n",
       "      <td>102</td>\n",
       "      <td>A101</td>\n",
       "      <td>Smartphone</td>\n",
       "    </tr>\n",
       "    <tr>\n",
       "      <th>3</th>\n",
       "      <td>104</td>\n",
       "      <td>A102</td>\n",
       "      <td>Tablet</td>\n",
       "    </tr>\n",
       "    <tr>\n",
       "      <th>4</th>\n",
       "      <td>105</td>\n",
       "      <td>A103</td>\n",
       "      <td>Smartphone</td>\n",
       "    </tr>\n",
       "  </tbody>\n",
       "</table>\n",
       "</div>"
      ],
      "text/plain": [
       "  Order_id Customer_id     Product\n",
       "0      101        A100      Laptop\n",
       "1      102        A101  Smartphone\n",
       "3      104        A102      Tablet\n",
       "4      105        A103  Smartphone"
      ]
     },
     "execution_count": 120,
     "metadata": {},
     "output_type": "execute_result"
    }
   ],
   "source": [
    "df.drop_duplicates(['Customer_id'])"
   ]
  },
  {
   "cell_type": "code",
   "execution_count": 122,
   "id": "e90d61a1-8085-4d19-b3a9-fe85fa933e67",
   "metadata": {},
   "outputs": [
    {
     "data": {
      "text/html": [
       "<div>\n",
       "<style scoped>\n",
       "    .dataframe tbody tr th:only-of-type {\n",
       "        vertical-align: middle;\n",
       "    }\n",
       "\n",
       "    .dataframe tbody tr th {\n",
       "        vertical-align: top;\n",
       "    }\n",
       "\n",
       "    .dataframe thead th {\n",
       "        text-align: right;\n",
       "    }\n",
       "</style>\n",
       "<table border=\"1\" class=\"dataframe\">\n",
       "  <thead>\n",
       "    <tr style=\"text-align: right;\">\n",
       "      <th></th>\n",
       "      <th>Order_id</th>\n",
       "      <th>Customer_id</th>\n",
       "      <th>Product</th>\n",
       "    </tr>\n",
       "  </thead>\n",
       "  <tbody>\n",
       "    <tr>\n",
       "      <th>0</th>\n",
       "      <td>101</td>\n",
       "      <td>A100</td>\n",
       "      <td>Laptop</td>\n",
       "    </tr>\n",
       "    <tr>\n",
       "      <th>1</th>\n",
       "      <td>102</td>\n",
       "      <td>A101</td>\n",
       "      <td>Smartphone</td>\n",
       "    </tr>\n",
       "    <tr>\n",
       "      <th>3</th>\n",
       "      <td>104</td>\n",
       "      <td>A102</td>\n",
       "      <td>Tablet</td>\n",
       "    </tr>\n",
       "  </tbody>\n",
       "</table>\n",
       "</div>"
      ],
      "text/plain": [
       "  Order_id Customer_id     Product\n",
       "0      101        A100      Laptop\n",
       "1      102        A101  Smartphone\n",
       "3      104        A102      Tablet"
      ]
     },
     "execution_count": 122,
     "metadata": {},
     "output_type": "execute_result"
    }
   ],
   "source": [
    "df.drop_duplicates(['Product'])"
   ]
  },
  {
   "cell_type": "code",
   "execution_count": null,
   "id": "af889dd7-bca3-40c5-bfbd-f08787a91bc8",
   "metadata": {},
   "outputs": [],
   "source": [
    "#Part 4 - Concatenating and transforming data"
   ]
  },
  {
   "cell_type": "code",
   "execution_count": null,
   "id": "6f46602f-cf84-4559-9003-31adde2c3439",
   "metadata": {},
   "outputs": [],
   "source": [
    "#Task 1:\n",
    "#You are working with two separate datasets containing information about sales orders for a retail company. \n",
    "#Your task is to prepare and concatenate the data to create a single DataFrame for analysis."
   ]
  },
  {
   "cell_type": "code",
   "execution_count": 138,
   "id": "3d2c0d83-7bc9-4e34-b921-b01ae3a7bd47",
   "metadata": {},
   "outputs": [
    {
     "name": "stdout",
     "output_type": "stream",
     "text": [
      "  Order_id Customer_id     Product\n",
      "0      101        A100      Laptop\n",
      "1      102        A101  Smartphone\n",
      "2      103        A100      Laptop\n"
     ]
    }
   ],
   "source": [
    "sales_data_1= pd.DataFrame({\n",
    "    \"Order_id\": [\"101\", \"102\", \"103\"],\n",
    "    \"Customer_id\": [\"A100\", \"A101\", \"A100\"],\n",
    "    \"Product\": [\"Laptop\", \"Smartphone\", \"Laptop\"]\n",
    "})\n",
    "\n",
    "#load data into a DataFrame object:\n",
    "df = pd.DataFrame(sales_data_1)\n",
    "\n",
    "print(df) "
   ]
  },
  {
   "cell_type": "code",
   "execution_count": 140,
   "id": "18dde66e-ac1c-47e5-85b3-c18a8bd9b85e",
   "metadata": {},
   "outputs": [
    {
     "name": "stdout",
     "output_type": "stream",
     "text": [
      "  Order_id Customer_id   Product\n",
      "0      104        A102   Monitor\n",
      "1      105        A103  Keyboard\n",
      "2      106        A101     Mouse\n"
     ]
    }
   ],
   "source": [
    "sales_data_2 = pd.DataFrame({\n",
    "    \"Order_id\": [\"104\", \"105\", \"106\"],\n",
    "    \"Customer_id\": [\"A102\", \"A103\", \"A101\"],\n",
    "    \"Product\": [\"Monitor\", \"Keyboard\", \"Mouse\"]\n",
    "})\n",
    "\n",
    "#load data into a DataFrame object:\n",
    "df = pd.DataFrame(sales_data_2)\n",
    "\n",
    "print(df) "
   ]
  },
  {
   "cell_type": "code",
   "execution_count": 142,
   "id": "7059aa74-c8f9-41b5-a224-6b4927d2cd8a",
   "metadata": {},
   "outputs": [
    {
     "name": "stdout",
     "output_type": "stream",
     "text": [
      "  Order_id Customer_id     Product\n",
      "0      101        A100      Laptop\n",
      "1      102        A101  Smartphone\n",
      "2      103        A100      Laptop\n",
      "0      104        A102     Monitor\n",
      "1      105        A103    Keyboard\n",
      "2      106        A101       Mouse\n"
     ]
    }
   ],
   "source": [
    "#Your task is to concatenate these two datasets vertically (along rows) to create a single DataFrame named combined_sales_data.\n",
    "\n",
    "combined_sales = pd.concat([sales_data_1, sales_data_2])\n",
    "\n",
    "print(combined_sales)\n"
   ]
  },
  {
   "cell_type": "code",
   "execution_count": null,
   "id": "5441f846-7601-460c-8c6b-06a3266f8838",
   "metadata": {},
   "outputs": [],
   "source": []
  },
  {
   "cell_type": "code",
   "execution_count": null,
   "id": "3829e4a4-dcb3-44c2-aaf5-ee79faf6ae94",
   "metadata": {},
   "outputs": [],
   "source": []
  }
 ],
 "metadata": {
  "kernelspec": {
   "display_name": "Python 3 (ipykernel)",
   "language": "python",
   "name": "python3"
  },
  "language_info": {
   "codemirror_mode": {
    "name": "ipython",
    "version": 3
   },
   "file_extension": ".py",
   "mimetype": "text/x-python",
   "name": "python",
   "nbconvert_exporter": "python",
   "pygments_lexer": "ipython3",
   "version": "3.12.4"
  }
 },
 "nbformat": 4,
 "nbformat_minor": 5
}
